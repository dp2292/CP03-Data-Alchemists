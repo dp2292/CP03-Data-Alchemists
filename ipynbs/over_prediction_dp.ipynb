{
 "cells": [
  {
   "cell_type": "code",
   "execution_count": 1,
   "metadata": {},
   "outputs": [],
   "source": [
    "import math\n",
    "import numpy as np\n",
    "import pandas as pd\n",
    "import matplotlib.pyplot as plt\n",
    "import seaborn as sns"
   ]
  },
  {
   "cell_type": "code",
   "execution_count": 2,
   "metadata": {},
   "outputs": [
    {
     "data": {
      "text/plain": [
       "Index(['match_id', 'season', 'start_date', 'venue', 'innings', 'ball',\n",
       "       'batting_team', 'bowling_team', 'striker', 'non_striker', 'bowler',\n",
       "       'runs_off_bat', 'extras', 'wides', 'noballs', 'byes', 'legbyes',\n",
       "       'penalty', 'wicket_type', 'player_dismissed', 'other_wicket_type',\n",
       "       'other_player_dismissed'],\n",
       "      dtype='object')"
      ]
     },
     "execution_count": 2,
     "metadata": {},
     "output_type": "execute_result"
    }
   ],
   "source": [
    "data_backup = pd.read_csv('./deliveries.csv')\n",
    "data = data_backup.copy()\n",
    "data.columns"
   ]
  },
  {
   "cell_type": "code",
   "execution_count": 3,
   "metadata": {},
   "outputs": [],
   "source": [
    "prev_data = pd.read_csv('./previous_data_per.csv')\n",
    "prev_data['%'] = prev_data['Won'] / prev_data['Mat']\n",
    "prev_data['%'] = prev_data['%'].apply(lambda x: round(x, 2))"
   ]
  },
  {
   "cell_type": "code",
   "execution_count": 4,
   "metadata": {},
   "outputs": [],
   "source": [
    "original_df = data\n",
    "# Convert 'start_date' to datetime if it's not already in datetime format\n",
    "original_df['start_date'] = pd.to_datetime(original_df['start_date'])\n",
    "\n",
    "# Group by match_id, innings, and venue\n",
    "grouped_df = original_df.groupby(['match_id', 'innings', 'venue'])\n",
    "\n",
    "# Calculate the required statistics for each group\n",
    "result_df = grouped_df.agg({\n",
    "    'batting_team': 'first',\n",
    "    'bowling_team': 'first',\n",
    "    'wides': 'sum',\n",
    "    'noballs': 'sum',\n",
    "    'byes': 'sum',\n",
    "    'legbyes': 'sum',\n",
    "    'runs_off_bat': 'sum',\n",
    "    'ball': 'max',\n",
    "    'wicket_type': lambda x: x.notnull().sum(),\n",
    "    'start_date': 'first'\n",
    "}).reset_index()\n",
    "\n",
    "# Rename columns\n",
    "result_df.columns = ['match_id', 'innings', 'venue', 'batting_team', 'bowling_team',\n",
    "                      'total_wides', 'total_noballs', 'total_byes', 'total_legbyes', 'total_runs_per_innings_match',\n",
    "                       'last_ball', 'total_wickets', 'date']\n",
    "\n",
    "# Calculate 'total_overs_played' based on the 'ball' column\n",
    "result_df['total_overs_played'] = result_df['last_ball'].apply(lambda x: min((int(x) + round((x % 1) * 10, 4) / 6), 50.0))\n",
    "\n",
    "# Change dtype of 'total_wides' and 'total_noballs' to int\n",
    "result_df[['total_wides', 'total_noballs', 'total_byes', 'total_legbyes']] = result_df[['total_wides', 'total_noballs', 'total_byes', 'total_legbyes']].astype(int)\n",
    "\n",
    "# Add 'total_wides' and 'total_noballs' to 'total_runs_per_innings_match' per innings\n",
    "result_df['total_runs_per_innings_match'] += result_df['total_wides'] + result_df['total_noballs'] + result_df['total_byes'] + result_df['total_legbyes']\n",
    "\n",
    "result_df.drop(['last_ball'], axis=1, inplace=True)"
   ]
  },
  {
   "cell_type": "code",
   "execution_count": 5,
   "metadata": {},
   "outputs": [
    {
     "data": {
      "text/html": [
       "<div>\n",
       "<style scoped>\n",
       "    .dataframe tbody tr th:only-of-type {\n",
       "        vertical-align: middle;\n",
       "    }\n",
       "\n",
       "    .dataframe tbody tr th {\n",
       "        vertical-align: top;\n",
       "    }\n",
       "\n",
       "    .dataframe thead th {\n",
       "        text-align: right;\n",
       "    }\n",
       "</style>\n",
       "<table border=\"1\" class=\"dataframe\">\n",
       "  <thead>\n",
       "    <tr style=\"text-align: right;\">\n",
       "      <th></th>\n",
       "      <th>match_id</th>\n",
       "      <th>innings</th>\n",
       "      <th>venue</th>\n",
       "      <th>batting_team</th>\n",
       "      <th>bowling_team</th>\n",
       "      <th>total_wides</th>\n",
       "      <th>total_noballs</th>\n",
       "      <th>total_byes</th>\n",
       "      <th>total_legbyes</th>\n",
       "      <th>total_runs_per_innings_match</th>\n",
       "      <th>total_wickets</th>\n",
       "      <th>date</th>\n",
       "      <th>total_overs_played</th>\n",
       "    </tr>\n",
       "  </thead>\n",
       "  <tbody>\n",
       "    <tr>\n",
       "      <th>0</th>\n",
       "      <td>1</td>\n",
       "      <td>1</td>\n",
       "      <td>Narendra Modi Stadium, Ahmedabad</td>\n",
       "      <td>England</td>\n",
       "      <td>New Zealand</td>\n",
       "      <td>6</td>\n",
       "      <td>0</td>\n",
       "      <td>0</td>\n",
       "      <td>0</td>\n",
       "      <td>282</td>\n",
       "      <td>9</td>\n",
       "      <td>2023-10-05</td>\n",
       "      <td>50.000000</td>\n",
       "    </tr>\n",
       "    <tr>\n",
       "      <th>1</th>\n",
       "      <td>1</td>\n",
       "      <td>2</td>\n",
       "      <td>Narendra Modi Stadium, Ahmedabad</td>\n",
       "      <td>New Zealand</td>\n",
       "      <td>England</td>\n",
       "      <td>3</td>\n",
       "      <td>0</td>\n",
       "      <td>4</td>\n",
       "      <td>1</td>\n",
       "      <td>283</td>\n",
       "      <td>1</td>\n",
       "      <td>2023-10-05</td>\n",
       "      <td>36.333333</td>\n",
       "    </tr>\n",
       "    <tr>\n",
       "      <th>2</th>\n",
       "      <td>2</td>\n",
       "      <td>1</td>\n",
       "      <td>Rajiv Gandhi International Stadium, Uppal, Hyd...</td>\n",
       "      <td>Pakistan</td>\n",
       "      <td>Netherlands</td>\n",
       "      <td>8</td>\n",
       "      <td>1</td>\n",
       "      <td>0</td>\n",
       "      <td>0</td>\n",
       "      <td>286</td>\n",
       "      <td>10</td>\n",
       "      <td>2023-10-06</td>\n",
       "      <td>49.000000</td>\n",
       "    </tr>\n",
       "    <tr>\n",
       "      <th>3</th>\n",
       "      <td>2</td>\n",
       "      <td>2</td>\n",
       "      <td>Rajiv Gandhi International Stadium, Uppal, Hyd...</td>\n",
       "      <td>Netherlands</td>\n",
       "      <td>Pakistan</td>\n",
       "      <td>9</td>\n",
       "      <td>0</td>\n",
       "      <td>0</td>\n",
       "      <td>0</td>\n",
       "      <td>205</td>\n",
       "      <td>10</td>\n",
       "      <td>2023-10-06</td>\n",
       "      <td>41.166667</td>\n",
       "    </tr>\n",
       "    <tr>\n",
       "      <th>4</th>\n",
       "      <td>3</td>\n",
       "      <td>1</td>\n",
       "      <td>Himachal Pradesh Cricket Association Stadium, ...</td>\n",
       "      <td>Afghanistan</td>\n",
       "      <td>Bangladesh</td>\n",
       "      <td>8</td>\n",
       "      <td>0</td>\n",
       "      <td>0</td>\n",
       "      <td>0</td>\n",
       "      <td>156</td>\n",
       "      <td>10</td>\n",
       "      <td>2023-10-07</td>\n",
       "      <td>37.333333</td>\n",
       "    </tr>\n",
       "  </tbody>\n",
       "</table>\n",
       "</div>"
      ],
      "text/plain": [
       "   match_id  innings                                              venue  \\\n",
       "0         1        1                   Narendra Modi Stadium, Ahmedabad   \n",
       "1         1        2                   Narendra Modi Stadium, Ahmedabad   \n",
       "2         2        1  Rajiv Gandhi International Stadium, Uppal, Hyd...   \n",
       "3         2        2  Rajiv Gandhi International Stadium, Uppal, Hyd...   \n",
       "4         3        1  Himachal Pradesh Cricket Association Stadium, ...   \n",
       "\n",
       "  batting_team bowling_team  total_wides  total_noballs  total_byes  \\\n",
       "0      England  New Zealand            6              0           0   \n",
       "1  New Zealand      England            3              0           4   \n",
       "2     Pakistan  Netherlands            8              1           0   \n",
       "3  Netherlands     Pakistan            9              0           0   \n",
       "4  Afghanistan   Bangladesh            8              0           0   \n",
       "\n",
       "   total_legbyes  total_runs_per_innings_match  total_wickets       date  \\\n",
       "0              0                           282              9 2023-10-05   \n",
       "1              1                           283              1 2023-10-05   \n",
       "2              0                           286             10 2023-10-06   \n",
       "3              0                           205             10 2023-10-06   \n",
       "4              0                           156             10 2023-10-07   \n",
       "\n",
       "   total_overs_played  \n",
       "0           50.000000  \n",
       "1           36.333333  \n",
       "2           49.000000  \n",
       "3           41.166667  \n",
       "4           37.333333  "
      ]
     },
     "execution_count": 5,
     "metadata": {},
     "output_type": "execute_result"
    }
   ],
   "source": [
    "result_df.head()"
   ]
  },
  {
   "cell_type": "code",
   "execution_count": 6,
   "metadata": {},
   "outputs": [
    {
     "data": {
      "text/html": [
       "<div>\n",
       "<style scoped>\n",
       "    .dataframe tbody tr th:only-of-type {\n",
       "        vertical-align: middle;\n",
       "    }\n",
       "\n",
       "    .dataframe tbody tr th {\n",
       "        vertical-align: top;\n",
       "    }\n",
       "\n",
       "    .dataframe thead th {\n",
       "        text-align: right;\n",
       "    }\n",
       "</style>\n",
       "<table border=\"1\" class=\"dataframe\">\n",
       "  <thead>\n",
       "    <tr style=\"text-align: right;\">\n",
       "      <th></th>\n",
       "      <th>innings</th>\n",
       "      <th>venue</th>\n",
       "      <th>batting_team</th>\n",
       "      <th>bowling_team</th>\n",
       "      <th>total_runs_per_innings_match</th>\n",
       "      <th>total_overs_played</th>\n",
       "    </tr>\n",
       "  </thead>\n",
       "  <tbody>\n",
       "    <tr>\n",
       "      <th>0</th>\n",
       "      <td>1</td>\n",
       "      <td>Narendra Modi Stadium, Ahmedabad</td>\n",
       "      <td>England</td>\n",
       "      <td>New Zealand</td>\n",
       "      <td>282</td>\n",
       "      <td>50.000000</td>\n",
       "    </tr>\n",
       "    <tr>\n",
       "      <th>1</th>\n",
       "      <td>2</td>\n",
       "      <td>Narendra Modi Stadium, Ahmedabad</td>\n",
       "      <td>New Zealand</td>\n",
       "      <td>England</td>\n",
       "      <td>283</td>\n",
       "      <td>36.333333</td>\n",
       "    </tr>\n",
       "    <tr>\n",
       "      <th>2</th>\n",
       "      <td>1</td>\n",
       "      <td>Rajiv Gandhi International Stadium, Uppal, Hyd...</td>\n",
       "      <td>Pakistan</td>\n",
       "      <td>Netherlands</td>\n",
       "      <td>286</td>\n",
       "      <td>49.000000</td>\n",
       "    </tr>\n",
       "    <tr>\n",
       "      <th>3</th>\n",
       "      <td>2</td>\n",
       "      <td>Rajiv Gandhi International Stadium, Uppal, Hyd...</td>\n",
       "      <td>Netherlands</td>\n",
       "      <td>Pakistan</td>\n",
       "      <td>205</td>\n",
       "      <td>41.166667</td>\n",
       "    </tr>\n",
       "    <tr>\n",
       "      <th>4</th>\n",
       "      <td>1</td>\n",
       "      <td>Himachal Pradesh Cricket Association Stadium, ...</td>\n",
       "      <td>Afghanistan</td>\n",
       "      <td>Bangladesh</td>\n",
       "      <td>156</td>\n",
       "      <td>37.333333</td>\n",
       "    </tr>\n",
       "  </tbody>\n",
       "</table>\n",
       "</div>"
      ],
      "text/plain": [
       "   innings                                              venue batting_team  \\\n",
       "0        1                   Narendra Modi Stadium, Ahmedabad      England   \n",
       "1        2                   Narendra Modi Stadium, Ahmedabad  New Zealand   \n",
       "2        1  Rajiv Gandhi International Stadium, Uppal, Hyd...     Pakistan   \n",
       "3        2  Rajiv Gandhi International Stadium, Uppal, Hyd...  Netherlands   \n",
       "4        1  Himachal Pradesh Cricket Association Stadium, ...  Afghanistan   \n",
       "\n",
       "  bowling_team  total_runs_per_innings_match  total_overs_played  \n",
       "0  New Zealand                           282           50.000000  \n",
       "1      England                           283           36.333333  \n",
       "2  Netherlands                           286           49.000000  \n",
       "3     Pakistan                           205           41.166667  \n",
       "4   Bangladesh                           156           37.333333  "
      ]
     },
     "execution_count": 6,
     "metadata": {},
     "output_type": "execute_result"
    }
   ],
   "source": [
    "result_df.drop(['total_wickets','date','match_id','total_wides', 'total_noballs', 'total_byes', 'total_legbyes'], axis=1, inplace=True)\n",
    "result_df.head()"
   ]
  },
  {
   "cell_type": "code",
   "execution_count": 7,
   "metadata": {},
   "outputs": [
    {
     "data": {
      "text/html": [
       "<div>\n",
       "<style scoped>\n",
       "    .dataframe tbody tr th:only-of-type {\n",
       "        vertical-align: middle;\n",
       "    }\n",
       "\n",
       "    .dataframe tbody tr th {\n",
       "        vertical-align: top;\n",
       "    }\n",
       "\n",
       "    .dataframe thead th {\n",
       "        text-align: right;\n",
       "    }\n",
       "</style>\n",
       "<table border=\"1\" class=\"dataframe\">\n",
       "  <thead>\n",
       "    <tr style=\"text-align: right;\">\n",
       "      <th></th>\n",
       "      <th>innings</th>\n",
       "      <th>venue</th>\n",
       "      <th>batting_team</th>\n",
       "      <th>bowling_team</th>\n",
       "      <th>total_runs_per_innings_match</th>\n",
       "      <th>total_overs_played</th>\n",
       "      <th>%</th>\n",
       "    </tr>\n",
       "  </thead>\n",
       "  <tbody>\n",
       "    <tr>\n",
       "      <th>0</th>\n",
       "      <td>1</td>\n",
       "      <td>Narendra Modi Stadium, Ahmedabad</td>\n",
       "      <td>England</td>\n",
       "      <td>New Zealand</td>\n",
       "      <td>282</td>\n",
       "      <td>50.000000</td>\n",
       "      <td>0.46</td>\n",
       "    </tr>\n",
       "    <tr>\n",
       "      <th>1</th>\n",
       "      <td>2</td>\n",
       "      <td>Narendra Modi Stadium, Ahmedabad</td>\n",
       "      <td>New Zealand</td>\n",
       "      <td>England</td>\n",
       "      <td>283</td>\n",
       "      <td>36.333333</td>\n",
       "      <td>0.47</td>\n",
       "    </tr>\n",
       "    <tr>\n",
       "      <th>2</th>\n",
       "      <td>1</td>\n",
       "      <td>Rajiv Gandhi International Stadium, Uppal, Hyd...</td>\n",
       "      <td>Pakistan</td>\n",
       "      <td>Netherlands</td>\n",
       "      <td>286</td>\n",
       "      <td>49.000000</td>\n",
       "      <td>0.50</td>\n",
       "    </tr>\n",
       "    <tr>\n",
       "      <th>3</th>\n",
       "      <td>2</td>\n",
       "      <td>Rajiv Gandhi International Stadium, Uppal, Hyd...</td>\n",
       "      <td>Netherlands</td>\n",
       "      <td>Pakistan</td>\n",
       "      <td>205</td>\n",
       "      <td>41.166667</td>\n",
       "      <td>0.50</td>\n",
       "    </tr>\n",
       "    <tr>\n",
       "      <th>4</th>\n",
       "      <td>1</td>\n",
       "      <td>Himachal Pradesh Cricket Association Stadium, ...</td>\n",
       "      <td>Afghanistan</td>\n",
       "      <td>Bangladesh</td>\n",
       "      <td>156</td>\n",
       "      <td>37.333333</td>\n",
       "      <td>0.38</td>\n",
       "    </tr>\n",
       "  </tbody>\n",
       "</table>\n",
       "</div>"
      ],
      "text/plain": [
       "   innings                                              venue batting_team  \\\n",
       "0        1                   Narendra Modi Stadium, Ahmedabad      England   \n",
       "1        2                   Narendra Modi Stadium, Ahmedabad  New Zealand   \n",
       "2        1  Rajiv Gandhi International Stadium, Uppal, Hyd...     Pakistan   \n",
       "3        2  Rajiv Gandhi International Stadium, Uppal, Hyd...  Netherlands   \n",
       "4        1  Himachal Pradesh Cricket Association Stadium, ...  Afghanistan   \n",
       "\n",
       "  bowling_team  total_runs_per_innings_match  total_overs_played     %  \n",
       "0  New Zealand                           282           50.000000  0.46  \n",
       "1      England                           283           36.333333  0.47  \n",
       "2  Netherlands                           286           49.000000  0.50  \n",
       "3     Pakistan                           205           41.166667  0.50  \n",
       "4   Bangladesh                           156           37.333333  0.38  "
      ]
     },
     "execution_count": 7,
     "metadata": {},
     "output_type": "execute_result"
    }
   ],
   "source": [
    "final_df = pd.merge(result_df,prev_data,left_on=['batting_team','bowling_team'],right_on=['Team','Opposition'],how='left')\n",
    "final_df.drop(['Team','Opposition','Mat','Won','Lost'],axis=1,inplace=True)\n",
    "final_df['%'].fillna(0.50,inplace=True)\n",
    "final_df.head()"
   ]
  },
  {
   "cell_type": "code",
   "execution_count": 8,
   "metadata": {},
   "outputs": [],
   "source": [
    "from sklearn import preprocessing\n",
    "le = preprocessing.LabelEncoder()\n",
    "\n",
    "mapping = {}\n",
    "categorical_columns = ['venue','batting_team','bowling_team']\n",
    "\n",
    "for column in categorical_columns:\n",
    "    final_df[column] = le.fit_transform(final_df[column])\n",
    "    mapping[column] = dict(zip(le.classes_, le.transform(le.classes_)))"
   ]
  },
  {
   "cell_type": "code",
   "execution_count": 9,
   "metadata": {},
   "outputs": [],
   "source": [
    "X=final_df.drop('total_overs_played',axis='columns')\n",
    "y=final_df['total_overs_played']"
   ]
  },
  {
   "cell_type": "code",
   "execution_count": 29,
   "metadata": {},
   "outputs": [
    {
     "data": {
      "text/plain": [
       "((51, 6), (13, 6))"
      ]
     },
     "execution_count": 29,
     "metadata": {},
     "output_type": "execute_result"
    }
   ],
   "source": [
    "from sklearn.model_selection import train_test_split\n",
    "from sklearn.preprocessing import StandardScaler\n",
    "scaler = StandardScaler()\n",
    "\n",
    "X_train, X_test, y_train, y_test = train_test_split(X,y,test_size=0.2,random_state=42)\n",
    "\n",
    "size_scaler = preprocessing.StandardScaler().fit(X_train)\n",
    "X_train_scaled = size_scaler.transform(X_train)\n",
    "X_test_scaled = size_scaler.transform(X_test)\n",
    "X_train_scaled.shape, X_test_scaled.shape"
   ]
  },
  {
   "cell_type": "code",
   "execution_count": 20,
   "metadata": {},
   "outputs": [
    {
     "data": {
      "text/plain": [
       "0.6608080146921238"
      ]
     },
     "execution_count": 20,
     "metadata": {},
     "output_type": "execute_result"
    }
   ],
   "source": [
    "from sklearn.linear_model import LinearRegression\n",
    "model = LinearRegression()\n",
    "model.fit(X_train,y_train)\n",
    "model.score(X_test,y_test)"
   ]
  },
  {
   "cell_type": "code",
   "execution_count": 21,
   "metadata": {},
   "outputs": [
    {
     "data": {
      "text/plain": [
       "array([54.46758934, 44.25522787, 48.2253875 , 53.09561074, 36.23371855,\n",
       "       44.7783668 , 50.0020989 , 52.46595684, 39.25257846, 36.52107479,\n",
       "       43.98276931, 39.64346789, 46.89290285])"
      ]
     },
     "execution_count": 21,
     "metadata": {},
     "output_type": "execute_result"
    }
   ],
   "source": [
    "y_pred = model.predict(X_test)\n",
    "y_pred"
   ]
  },
  {
   "cell_type": "code",
   "execution_count": 22,
   "metadata": {},
   "outputs": [
    {
     "data": {
      "text/plain": [
       "52    49.333333\n",
       "58    49.666667\n",
       "0     50.000000\n",
       "44    50.000000\n",
       "5     34.666667\n",
       "36    49.833333\n",
       "16    50.000000\n",
       "12    50.000000\n",
       "25    40.500000\n",
       "61    32.500000\n",
       "56    50.000000\n",
       "9     41.333333\n",
       "40    50.000000\n",
       "Name: total_overs_played, dtype: float64"
      ]
     },
     "execution_count": 22,
     "metadata": {},
     "output_type": "execute_result"
    }
   ],
   "source": [
    "y_test"
   ]
  },
  {
   "cell_type": "code",
   "execution_count": 23,
   "metadata": {},
   "outputs": [
    {
     "name": "stdout",
     "output_type": "stream",
     "text": [
      "3.122206294146001\n",
      "3.850115875617411\n"
     ]
    }
   ],
   "source": [
    "#print test and train mae\n",
    "\n",
    "from sklearn.metrics import mean_absolute_error\n",
    "print(mean_absolute_error(y_train,model.predict(X_train)))\n",
    "print(mean_absolute_error(y_test,y_pred))"
   ]
  },
  {
   "cell_type": "code",
   "execution_count": 24,
   "metadata": {},
   "outputs": [
    {
     "name": "stdout",
     "output_type": "stream",
     "text": [
      "Epoch 1/500\n",
      "10/10 [==============================] - 1s 20ms/step - loss: 3624.0691 - mae: 58.7866 - val_loss: 2941.5564 - val_mae: 53.9209\n",
      "Epoch 2/500\n",
      "10/10 [==============================] - 0s 6ms/step - loss: 2298.0015 - mae: 47.0522 - val_loss: 2492.4216 - val_mae: 49.6747\n",
      "Epoch 3/500\n",
      "10/10 [==============================] - 0s 4ms/step - loss: 2026.3464 - mae: 44.2451 - val_loss: 2261.1843 - val_mae: 47.3305\n",
      "Epoch 4/500\n",
      "10/10 [==============================] - 0s 6ms/step - loss: 1887.0652 - mae: 42.7048 - val_loss: 2164.6592 - val_mae: 46.3129\n",
      "Epoch 5/500\n",
      "10/10 [==============================] - 0s 6ms/step - loss: 1813.7922 - mae: 41.8609 - val_loss: 2048.0146 - val_mae: 45.0549\n",
      "Epoch 6/500\n",
      "10/10 [==============================] - 0s 5ms/step - loss: 1706.3015 - mae: 40.6053 - val_loss: 1868.9438 - val_mae: 43.0539\n",
      "Epoch 7/500\n",
      "10/10 [==============================] - 0s 6ms/step - loss: 1510.9769 - mae: 38.2203 - val_loss: 1558.5200 - val_mae: 39.3291\n",
      "Epoch 8/500\n",
      "10/10 [==============================] - 0s 5ms/step - loss: 1213.9359 - mae: 34.1900 - val_loss: 1124.3589 - val_mae: 33.3973\n",
      "Epoch 9/500\n",
      "10/10 [==============================] - 0s 6ms/step - loss: 808.2711 - mae: 27.6574 - val_loss: 571.8278 - val_mae: 23.6455\n",
      "Epoch 10/500\n",
      "10/10 [==============================] - 0s 6ms/step - loss: 371.8689 - mae: 17.6912 - val_loss: 138.8906 - val_mae: 10.5307\n",
      "Epoch 11/500\n",
      "10/10 [==============================] - 0s 5ms/step - loss: 117.6626 - mae: 9.1735 - val_loss: 71.0024 - val_mae: 6.8192\n",
      "Epoch 12/500\n",
      "10/10 [==============================] - 0s 6ms/step - loss: 101.8003 - mae: 8.2886 - val_loss: 97.9057 - val_mae: 7.8260\n",
      "Epoch 13/500\n",
      "10/10 [==============================] - 0s 4ms/step - loss: 100.1856 - mae: 7.9835 - val_loss: 71.7920 - val_mae: 6.8232\n",
      "Epoch 14/500\n",
      "10/10 [==============================] - 0s 6ms/step - loss: 91.7888 - mae: 8.0981 - val_loss: 60.4203 - val_mae: 6.5309\n",
      "Epoch 15/500\n",
      "10/10 [==============================] - 0s 5ms/step - loss: 91.8549 - mae: 8.2150 - val_loss: 62.0753 - val_mae: 6.6236\n",
      "Epoch 16/500\n",
      "10/10 [==============================] - 0s 6ms/step - loss: 90.0549 - mae: 8.0811 - val_loss: 62.1641 - val_mae: 6.6249\n",
      "Epoch 17/500\n",
      "10/10 [==============================] - 0s 6ms/step - loss: 90.2674 - mae: 8.0717 - val_loss: 62.8056 - val_mae: 6.6424\n",
      "Epoch 18/500\n",
      "10/10 [==============================] - 0s 6ms/step - loss: 89.6406 - mae: 7.9683 - val_loss: 64.9207 - val_mae: 6.6921\n",
      "Epoch 19/500\n",
      "10/10 [==============================] - 0s 6ms/step - loss: 89.4750 - mae: 7.9370 - val_loss: 63.6739 - val_mae: 6.6602\n",
      "Epoch 20/500\n",
      "10/10 [==============================] - 0s 6ms/step - loss: 91.7360 - mae: 8.1819 - val_loss: 60.8713 - val_mae: 6.5661\n",
      "Epoch 21/500\n",
      "10/10 [==============================] - 0s 7ms/step - loss: 89.6740 - mae: 8.1054 - val_loss: 61.8454 - val_mae: 6.6028\n",
      "Epoch 22/500\n",
      "10/10 [==============================] - 0s 4ms/step - loss: 89.1288 - mae: 7.9412 - val_loss: 65.0553 - val_mae: 6.6817\n",
      "Epoch 23/500\n",
      "10/10 [==============================] - 0s 5ms/step - loss: 91.0717 - mae: 7.9512 - val_loss: 68.1707 - val_mae: 6.7346\n",
      "Epoch 24/500\n",
      "10/10 [==============================] - 0s 6ms/step - loss: 89.2864 - mae: 7.8428 - val_loss: 63.4348 - val_mae: 6.6390\n"
     ]
    },
    {
     "data": {
      "text/plain": [
       "<keras.src.callbacks.History at 0x26dffe1d190>"
      ]
     },
     "execution_count": 24,
     "metadata": {},
     "output_type": "execute_result"
    }
   ],
   "source": [
    "import tensorflow as tf\n",
    "from tensorflow import keras\n",
    "from tensorflow.keras import layers\n",
    "from tensorflow.keras.callbacks import EarlyStopping\n",
    "from sklearn.preprocessing import StandardScaler\n",
    "\n",
    "\n",
    "model = keras.Sequential([\n",
    "    layers.Input(shape=(X_train.shape[1],)),  # Input layer\n",
    "    layers.Dense(64, activation='relu'),\n",
    "    layers.Dense(32, activation='relu'),\n",
    "    layers.Dense(16, activation='relu'),\n",
    "    layers.Dense(8, activation='relu'),\n",
    "    layers.Dense(1, activation='linear')  # Output layer with 1 unit and linear activation\n",
    "])\n",
    "\n",
    "model.compile(optimizer='adam', loss='mse', metrics=['mae'])\n",
    "\n",
    "early_stopping = EarlyStopping(monitor='val_loss', patience=10)\n",
    "\n",
    "model.fit(X_train, y_train, epochs=500, batch_size=4, verbose=1, callbacks=[early_stopping], validation_split=0.2)"
   ]
  },
  {
   "cell_type": "code",
   "execution_count": 25,
   "metadata": {},
   "outputs": [
    {
     "name": "stdout",
     "output_type": "stream",
     "text": [
      "2/2 [==============================] - 0s 4ms/step - loss: 83.2317 - mae: 7.6531\n",
      "Training MAE: 7.65308952331543\n",
      "1/1 [==============================] - 0s 24ms/step - loss: 76.8818 - mae: 7.8455\n",
      "Test MAE: 7.845459461212158\n"
     ]
    }
   ],
   "source": [
    "train_loss, train_mae = model.evaluate(X_train, y_train, verbose=1)\n",
    "print(f\"Training MAE: {train_mae}\")\n",
    "\n",
    "# Evaluate on the test set\n",
    "test_loss, test_mae = model.evaluate(X_test, y_test, verbose=1)\n",
    "print(f\"Test MAE: {test_mae}\")"
   ]
  },
  {
   "cell_type": "code",
   "execution_count": 27,
   "metadata": {},
   "outputs": [
    {
     "name": "stdout",
     "output_type": "stream",
     "text": [
      "0.0\n",
      "1.6794871794871797\n"
     ]
    }
   ],
   "source": [
    "# do decision tree regressor with hyperparameter tuning using grid sreach\n",
    "\n",
    "from sklearn.tree import DecisionTreeRegressor\n",
    "\n",
    "model = DecisionTreeRegressor(random_state=42)\n",
    "\n",
    "model.fit(X_train, y_train)\n",
    "\n",
    "y_pred = model.predict(X_test)\n",
    "\n",
    "from sklearn.metrics import mean_absolute_error\n",
    "#print test and train mae\n",
    "\n",
    "print(mean_absolute_error(y_train,model.predict(X_train)))\n",
    "\n",
    "print(mean_absolute_error(y_test,y_pred))"
   ]
  },
  {
   "cell_type": "code",
   "execution_count": 30,
   "metadata": {},
   "outputs": [
    {
     "name": "stdout",
     "output_type": "stream",
     "text": [
      "{'max_depth': 5, 'min_samples_leaf': 6, 'min_samples_split': 14}\n",
      "Training MAE: 3.003896430367018\n",
      "Test MAE: 1.9229947403024283\n"
     ]
    }
   ],
   "source": [
    "#build decision tree model\n",
    "from sklearn.tree import DecisionTreeRegressor\n",
    "from sklearn.model_selection import GridSearchCV\n",
    "from sklearn.metrics import  mean_absolute_error\n",
    "\n",
    "dt = DecisionTreeRegressor(random_state=42)\n",
    "\n",
    "params = {'max_depth': [3, 5, 7, 9, 11, 13, 15],\n",
    "            'min_samples_split': [2, 4, 6, 8, 10, 12, 14, 16],\n",
    "            'min_samples_leaf': [1, 2, 3, 4, 5, 6, 7, 8]}\n",
    "gs = GridSearchCV(estimator=dt, param_grid=params, scoring='neg_mean_squared_error', cv=5, n_jobs=-1)\n",
    "\n",
    "gs.fit(X_train, y_train)\n",
    "\n",
    "print(gs.best_params_)\n",
    "\n",
    "#print train and test mae\n",
    "\n",
    "train_mae = mean_absolute_error(y_train, gs.predict(X_train))\n",
    "test_mae = mean_absolute_error(y_test, gs.predict(X_test))\n",
    "\n",
    "print(f\"Training MAE: {train_mae}\")\n",
    "print(f\"Test MAE: {test_mae}\")"
   ]
  },
  {
   "cell_type": "code",
   "execution_count": 31,
   "metadata": {},
   "outputs": [],
   "source": [
    "#export decision tree model using pickle\n",
    "import pickle\n",
    "pickle.dump(gs, open('over_model.pkl','wb'))"
   ]
  }
 ],
 "metadata": {
  "kernelspec": {
   "display_name": "Python 3",
   "language": "python",
   "name": "python3"
  },
  "language_info": {
   "codemirror_mode": {
    "name": "ipython",
    "version": 3
   },
   "file_extension": ".py",
   "mimetype": "text/x-python",
   "name": "python",
   "nbconvert_exporter": "python",
   "pygments_lexer": "ipython3",
   "version": "3.11.5"
  }
 },
 "nbformat": 4,
 "nbformat_minor": 2
}
