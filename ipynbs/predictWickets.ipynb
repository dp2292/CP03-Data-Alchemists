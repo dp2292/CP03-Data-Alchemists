{
  "cells": [
    {
      "cell_type": "code",
      "source": [
        "!mkdir data"
      ],
      "metadata": {
        "id": "sIETNU7k6xep"
      },
      "execution_count": null,
      "outputs": []
    },
    {
      "cell_type": "code",
      "source": [
        "!gdown --id 1cDh6JCeazOP7nfbLEJKAcf72QFBZrGTQ"
      ],
      "metadata": {
        "colab": {
          "base_uri": "https://localhost:8080/"
        },
        "id": "hHFRPis461mh",
        "outputId": "ad2edf68-0d32-4e5d-eb98-6fa5446bce55"
      },
      "execution_count": null,
      "outputs": [
        {
          "output_type": "stream",
          "name": "stdout",
          "text": [
            "/usr/local/lib/python3.10/dist-packages/gdown/cli.py:121: FutureWarning: Option `--id` was deprecated in version 4.3.1 and will be removed in 5.0. You don't need to pass it anymore to use a file ID.\n",
            "  warnings.warn(\n",
            "Downloading...\n",
            "From: https://drive.google.com/uc?id=1cDh6JCeazOP7nfbLEJKAcf72QFBZrGTQ\n",
            "To: /content/dataset.zip\n",
            "100% 105k/105k [00:00<00:00, 2.50MB/s]\n"
          ]
        }
      ]
    },
    {
      "cell_type": "code",
      "source": [
        "!unzip dataset.zip"
      ],
      "metadata": {
        "colab": {
          "base_uri": "https://localhost:8080/"
        },
        "id": "bwwOyFd167sx",
        "outputId": "7e6ddf24-a2f4-4ff9-a929-b550e50dcb3e"
      },
      "execution_count": null,
      "outputs": [
        {
          "output_type": "stream",
          "name": "stdout",
          "text": [
            "Archive:  dataset.zip\n",
            "  inflating: deliveries.csv          \n",
            "  inflating: matches.csv             \n",
            "  inflating: points_table.csv        \n"
          ]
        }
      ]
    },
    {
      "cell_type": "code",
      "source": [
        "!mv *.csv data/"
      ],
      "metadata": {
        "id": "gtQFrKWO691G"
      },
      "execution_count": null,
      "outputs": []
    },
    {
      "cell_type": "code",
      "source": [
        "!ls -ltr /content/data"
      ],
      "metadata": {
        "colab": {
          "base_uri": "https://localhost:8080/"
        },
        "id": "jegd1Pq57AOK",
        "outputId": "dc1cd320-8964-41c8-8929-ed74106253b1"
      },
      "execution_count": null,
      "outputs": [
        {
          "output_type": "stream",
          "name": "stdout",
          "text": [
            "total 2500\n",
            "-rw-r--r-- 1 root root     855 Nov  2 07:35 points_table.csv\n",
            "-rw-r--r-- 1 root root    5856 Nov  2 07:35 matches.csv\n",
            "-rw-r--r-- 1 root root 2543662 Nov  2 07:35 deliveries.csv\n"
          ]
        }
      ]
    },
    {
      "cell_type": "code",
      "execution_count": null,
      "metadata": {
        "id": "Ef1bG9F26obK"
      },
      "outputs": [],
      "source": [
        "import pandas as pd\n",
        "\n",
        "# Read the CSV file into a Pandas DataFrame\n",
        "df = pd.read_csv('/content/data/deliveries.csv')\n",
        "\n",
        "# Select the specific columns you want to keep\n",
        "df_filtered = df[['match_id', 'venue', 'batting_team', 'bowling_team', 'bowler', 'wicket_type', 'player_dismissed']]\n",
        "\n",
        "# Filter the rows where wicket_type is not null\n",
        "df_filtered = df_filtered[df_filtered['wicket_type'].notnull()]\n",
        "\n",
        "# print(df_filtered)"
      ]
    },
    {
      "cell_type": "code",
      "execution_count": null,
      "metadata": {
        "colab": {
          "base_uri": "https://localhost:8080/",
          "height": 676
        },
        "id": "ZCtyBkJB6obP",
        "outputId": "2333b7af-536a-494a-bf84-4712c3617b32"
      },
      "outputs": [
        {
          "output_type": "execute_result",
          "data": {
            "text/plain": [
              "                bowler                                              venue  \\\n",
              "0               A Dutt                        Arun Jaitley Stadium, Delhi   \n",
              "1               A Dutt  Bharat Ratna Shri Atal Bihari Vajpayee Ekana C...   \n",
              "2               A Dutt                              Eden Gardens, Kolkata   \n",
              "3               A Dutt  Rajiv Gandhi International Stadium, Uppal, Hyd...   \n",
              "4               A Dutt  Rajiv Gandhi International Stadium, Uppal, Hyd...   \n",
              "5              A Zampa                        Arun Jaitley Stadium, Delhi   \n",
              "6              A Zampa  Bharat Ratna Shri Atal Bihari Vajpayee Ekana C...   \n",
              "7              A Zampa  Bharat Ratna Shri Atal Bihari Vajpayee Ekana C...   \n",
              "8              A Zampa  Himachal Pradesh Cricket Association Stadium, ...   \n",
              "9              A Zampa                   M Chinnaswamy Stadium, Bengaluru   \n",
              "10        AAP Atkinson                           Wankhede Stadium, Mumbai   \n",
              "11          AD Mathews                   M Chinnaswamy Stadium, Bengaluru   \n",
              "12           AU Rashid                        Arun Jaitley Stadium, Delhi   \n",
              "13           AU Rashid  Bharat Ratna Shri Atal Bihari Vajpayee Ekana C...   \n",
              "14           AU Rashid  Himachal Pradesh Cricket Association Stadium, ...   \n",
              "15           AU Rashid                           Wankhede Stadium, Mumbai   \n",
              "16  Azmatullah Omarzai  Himachal Pradesh Cricket Association Stadium, ...   \n",
              "17  Azmatullah Omarzai           MA Chidambaram Stadium, Chepauk, Chennai   \n",
              "18  Azmatullah Omarzai           MA Chidambaram Stadium, Chepauk, Chennai   \n",
              "19  Azmatullah Omarzai      Maharashtra Cricket Association Stadium, Pune   \n",
              "\n",
              "    batting_team bowling_team  wicket_in_inning  \n",
              "0      Australia  Netherlands                 1  \n",
              "1      Sri Lanka  Netherlands                 3  \n",
              "2     Bangladesh  Netherlands                 1  \n",
              "3    New Zealand  Netherlands                 2  \n",
              "4       Pakistan  Netherlands                 1  \n",
              "5    Netherlands    Australia                 4  \n",
              "6   South Africa    Australia                 1  \n",
              "7      Sri Lanka    Australia                 4  \n",
              "8    New Zealand    Australia                 3  \n",
              "9       Pakistan    Australia                 4  \n",
              "10  South Africa      England                 2  \n",
              "11       England    Sri Lanka                 2  \n",
              "12   Afghanistan      England                 4  \n",
              "13         India      England                 2  \n",
              "14    Bangladesh      England                 1  \n",
              "15  South Africa      England                 2  \n",
              "16    Bangladesh  Afghanistan                 1  \n",
              "17   New Zealand  Afghanistan                 2  \n",
              "18      Pakistan  Afghanistan                 1  \n",
              "19     Sri Lanka  Afghanistan                 1  "
            ],
            "text/html": [
              "\n",
              "  <div id=\"df-b95decfc-3e4f-418d-b4d9-936f260c851a\" class=\"colab-df-container\">\n",
              "    <div>\n",
              "<style scoped>\n",
              "    .dataframe tbody tr th:only-of-type {\n",
              "        vertical-align: middle;\n",
              "    }\n",
              "\n",
              "    .dataframe tbody tr th {\n",
              "        vertical-align: top;\n",
              "    }\n",
              "\n",
              "    .dataframe thead th {\n",
              "        text-align: right;\n",
              "    }\n",
              "</style>\n",
              "<table border=\"1\" class=\"dataframe\">\n",
              "  <thead>\n",
              "    <tr style=\"text-align: right;\">\n",
              "      <th></th>\n",
              "      <th>bowler</th>\n",
              "      <th>venue</th>\n",
              "      <th>batting_team</th>\n",
              "      <th>bowling_team</th>\n",
              "      <th>wicket_in_inning</th>\n",
              "    </tr>\n",
              "  </thead>\n",
              "  <tbody>\n",
              "    <tr>\n",
              "      <th>0</th>\n",
              "      <td>A Dutt</td>\n",
              "      <td>Arun Jaitley Stadium, Delhi</td>\n",
              "      <td>Australia</td>\n",
              "      <td>Netherlands</td>\n",
              "      <td>1</td>\n",
              "    </tr>\n",
              "    <tr>\n",
              "      <th>1</th>\n",
              "      <td>A Dutt</td>\n",
              "      <td>Bharat Ratna Shri Atal Bihari Vajpayee Ekana C...</td>\n",
              "      <td>Sri Lanka</td>\n",
              "      <td>Netherlands</td>\n",
              "      <td>3</td>\n",
              "    </tr>\n",
              "    <tr>\n",
              "      <th>2</th>\n",
              "      <td>A Dutt</td>\n",
              "      <td>Eden Gardens, Kolkata</td>\n",
              "      <td>Bangladesh</td>\n",
              "      <td>Netherlands</td>\n",
              "      <td>1</td>\n",
              "    </tr>\n",
              "    <tr>\n",
              "      <th>3</th>\n",
              "      <td>A Dutt</td>\n",
              "      <td>Rajiv Gandhi International Stadium, Uppal, Hyd...</td>\n",
              "      <td>New Zealand</td>\n",
              "      <td>Netherlands</td>\n",
              "      <td>2</td>\n",
              "    </tr>\n",
              "    <tr>\n",
              "      <th>4</th>\n",
              "      <td>A Dutt</td>\n",
              "      <td>Rajiv Gandhi International Stadium, Uppal, Hyd...</td>\n",
              "      <td>Pakistan</td>\n",
              "      <td>Netherlands</td>\n",
              "      <td>1</td>\n",
              "    </tr>\n",
              "    <tr>\n",
              "      <th>5</th>\n",
              "      <td>A Zampa</td>\n",
              "      <td>Arun Jaitley Stadium, Delhi</td>\n",
              "      <td>Netherlands</td>\n",
              "      <td>Australia</td>\n",
              "      <td>4</td>\n",
              "    </tr>\n",
              "    <tr>\n",
              "      <th>6</th>\n",
              "      <td>A Zampa</td>\n",
              "      <td>Bharat Ratna Shri Atal Bihari Vajpayee Ekana C...</td>\n",
              "      <td>South Africa</td>\n",
              "      <td>Australia</td>\n",
              "      <td>1</td>\n",
              "    </tr>\n",
              "    <tr>\n",
              "      <th>7</th>\n",
              "      <td>A Zampa</td>\n",
              "      <td>Bharat Ratna Shri Atal Bihari Vajpayee Ekana C...</td>\n",
              "      <td>Sri Lanka</td>\n",
              "      <td>Australia</td>\n",
              "      <td>4</td>\n",
              "    </tr>\n",
              "    <tr>\n",
              "      <th>8</th>\n",
              "      <td>A Zampa</td>\n",
              "      <td>Himachal Pradesh Cricket Association Stadium, ...</td>\n",
              "      <td>New Zealand</td>\n",
              "      <td>Australia</td>\n",
              "      <td>3</td>\n",
              "    </tr>\n",
              "    <tr>\n",
              "      <th>9</th>\n",
              "      <td>A Zampa</td>\n",
              "      <td>M Chinnaswamy Stadium, Bengaluru</td>\n",
              "      <td>Pakistan</td>\n",
              "      <td>Australia</td>\n",
              "      <td>4</td>\n",
              "    </tr>\n",
              "    <tr>\n",
              "      <th>10</th>\n",
              "      <td>AAP Atkinson</td>\n",
              "      <td>Wankhede Stadium, Mumbai</td>\n",
              "      <td>South Africa</td>\n",
              "      <td>England</td>\n",
              "      <td>2</td>\n",
              "    </tr>\n",
              "    <tr>\n",
              "      <th>11</th>\n",
              "      <td>AD Mathews</td>\n",
              "      <td>M Chinnaswamy Stadium, Bengaluru</td>\n",
              "      <td>England</td>\n",
              "      <td>Sri Lanka</td>\n",
              "      <td>2</td>\n",
              "    </tr>\n",
              "    <tr>\n",
              "      <th>12</th>\n",
              "      <td>AU Rashid</td>\n",
              "      <td>Arun Jaitley Stadium, Delhi</td>\n",
              "      <td>Afghanistan</td>\n",
              "      <td>England</td>\n",
              "      <td>4</td>\n",
              "    </tr>\n",
              "    <tr>\n",
              "      <th>13</th>\n",
              "      <td>AU Rashid</td>\n",
              "      <td>Bharat Ratna Shri Atal Bihari Vajpayee Ekana C...</td>\n",
              "      <td>India</td>\n",
              "      <td>England</td>\n",
              "      <td>2</td>\n",
              "    </tr>\n",
              "    <tr>\n",
              "      <th>14</th>\n",
              "      <td>AU Rashid</td>\n",
              "      <td>Himachal Pradesh Cricket Association Stadium, ...</td>\n",
              "      <td>Bangladesh</td>\n",
              "      <td>England</td>\n",
              "      <td>1</td>\n",
              "    </tr>\n",
              "    <tr>\n",
              "      <th>15</th>\n",
              "      <td>AU Rashid</td>\n",
              "      <td>Wankhede Stadium, Mumbai</td>\n",
              "      <td>South Africa</td>\n",
              "      <td>England</td>\n",
              "      <td>2</td>\n",
              "    </tr>\n",
              "    <tr>\n",
              "      <th>16</th>\n",
              "      <td>Azmatullah Omarzai</td>\n",
              "      <td>Himachal Pradesh Cricket Association Stadium, ...</td>\n",
              "      <td>Bangladesh</td>\n",
              "      <td>Afghanistan</td>\n",
              "      <td>1</td>\n",
              "    </tr>\n",
              "    <tr>\n",
              "      <th>17</th>\n",
              "      <td>Azmatullah Omarzai</td>\n",
              "      <td>MA Chidambaram Stadium, Chepauk, Chennai</td>\n",
              "      <td>New Zealand</td>\n",
              "      <td>Afghanistan</td>\n",
              "      <td>2</td>\n",
              "    </tr>\n",
              "    <tr>\n",
              "      <th>18</th>\n",
              "      <td>Azmatullah Omarzai</td>\n",
              "      <td>MA Chidambaram Stadium, Chepauk, Chennai</td>\n",
              "      <td>Pakistan</td>\n",
              "      <td>Afghanistan</td>\n",
              "      <td>1</td>\n",
              "    </tr>\n",
              "    <tr>\n",
              "      <th>19</th>\n",
              "      <td>Azmatullah Omarzai</td>\n",
              "      <td>Maharashtra Cricket Association Stadium, Pune</td>\n",
              "      <td>Sri Lanka</td>\n",
              "      <td>Afghanistan</td>\n",
              "      <td>1</td>\n",
              "    </tr>\n",
              "  </tbody>\n",
              "</table>\n",
              "</div>\n",
              "    <div class=\"colab-df-buttons\">\n",
              "\n",
              "  <div class=\"colab-df-container\">\n",
              "    <button class=\"colab-df-convert\" onclick=\"convertToInteractive('df-b95decfc-3e4f-418d-b4d9-936f260c851a')\"\n",
              "            title=\"Convert this dataframe to an interactive table.\"\n",
              "            style=\"display:none;\">\n",
              "\n",
              "  <svg xmlns=\"http://www.w3.org/2000/svg\" height=\"24px\" viewBox=\"0 -960 960 960\">\n",
              "    <path d=\"M120-120v-720h720v720H120Zm60-500h600v-160H180v160Zm220 220h160v-160H400v160Zm0 220h160v-160H400v160ZM180-400h160v-160H180v160Zm440 0h160v-160H620v160ZM180-180h160v-160H180v160Zm440 0h160v-160H620v160Z\"/>\n",
              "  </svg>\n",
              "    </button>\n",
              "\n",
              "  <style>\n",
              "    .colab-df-container {\n",
              "      display:flex;\n",
              "      gap: 12px;\n",
              "    }\n",
              "\n",
              "    .colab-df-convert {\n",
              "      background-color: #E8F0FE;\n",
              "      border: none;\n",
              "      border-radius: 50%;\n",
              "      cursor: pointer;\n",
              "      display: none;\n",
              "      fill: #1967D2;\n",
              "      height: 32px;\n",
              "      padding: 0 0 0 0;\n",
              "      width: 32px;\n",
              "    }\n",
              "\n",
              "    .colab-df-convert:hover {\n",
              "      background-color: #E2EBFA;\n",
              "      box-shadow: 0px 1px 2px rgba(60, 64, 67, 0.3), 0px 1px 3px 1px rgba(60, 64, 67, 0.15);\n",
              "      fill: #174EA6;\n",
              "    }\n",
              "\n",
              "    .colab-df-buttons div {\n",
              "      margin-bottom: 4px;\n",
              "    }\n",
              "\n",
              "    [theme=dark] .colab-df-convert {\n",
              "      background-color: #3B4455;\n",
              "      fill: #D2E3FC;\n",
              "    }\n",
              "\n",
              "    [theme=dark] .colab-df-convert:hover {\n",
              "      background-color: #434B5C;\n",
              "      box-shadow: 0px 1px 3px 1px rgba(0, 0, 0, 0.15);\n",
              "      filter: drop-shadow(0px 1px 2px rgba(0, 0, 0, 0.3));\n",
              "      fill: #FFFFFF;\n",
              "    }\n",
              "  </style>\n",
              "\n",
              "    <script>\n",
              "      const buttonEl =\n",
              "        document.querySelector('#df-b95decfc-3e4f-418d-b4d9-936f260c851a button.colab-df-convert');\n",
              "      buttonEl.style.display =\n",
              "        google.colab.kernel.accessAllowed ? 'block' : 'none';\n",
              "\n",
              "      async function convertToInteractive(key) {\n",
              "        const element = document.querySelector('#df-b95decfc-3e4f-418d-b4d9-936f260c851a');\n",
              "        const dataTable =\n",
              "          await google.colab.kernel.invokeFunction('convertToInteractive',\n",
              "                                                    [key], {});\n",
              "        if (!dataTable) return;\n",
              "\n",
              "        const docLinkHtml = 'Like what you see? Visit the ' +\n",
              "          '<a target=\"_blank\" href=https://colab.research.google.com/notebooks/data_table.ipynb>data table notebook</a>'\n",
              "          + ' to learn more about interactive tables.';\n",
              "        element.innerHTML = '';\n",
              "        dataTable['output_type'] = 'display_data';\n",
              "        await google.colab.output.renderOutput(dataTable, element);\n",
              "        const docLink = document.createElement('div');\n",
              "        docLink.innerHTML = docLinkHtml;\n",
              "        element.appendChild(docLink);\n",
              "      }\n",
              "    </script>\n",
              "  </div>\n",
              "\n",
              "\n",
              "<div id=\"df-f99c84a6-f77a-4a2f-92e0-2b238be4518b\">\n",
              "  <button class=\"colab-df-quickchart\" onclick=\"quickchart('df-f99c84a6-f77a-4a2f-92e0-2b238be4518b')\"\n",
              "            title=\"Suggest charts\"\n",
              "            style=\"display:none;\">\n",
              "\n",
              "<svg xmlns=\"http://www.w3.org/2000/svg\" height=\"24px\"viewBox=\"0 0 24 24\"\n",
              "     width=\"24px\">\n",
              "    <g>\n",
              "        <path d=\"M19 3H5c-1.1 0-2 .9-2 2v14c0 1.1.9 2 2 2h14c1.1 0 2-.9 2-2V5c0-1.1-.9-2-2-2zM9 17H7v-7h2v7zm4 0h-2V7h2v10zm4 0h-2v-4h2v4z\"/>\n",
              "    </g>\n",
              "</svg>\n",
              "  </button>\n",
              "\n",
              "<style>\n",
              "  .colab-df-quickchart {\n",
              "      --bg-color: #E8F0FE;\n",
              "      --fill-color: #1967D2;\n",
              "      --hover-bg-color: #E2EBFA;\n",
              "      --hover-fill-color: #174EA6;\n",
              "      --disabled-fill-color: #AAA;\n",
              "      --disabled-bg-color: #DDD;\n",
              "  }\n",
              "\n",
              "  [theme=dark] .colab-df-quickchart {\n",
              "      --bg-color: #3B4455;\n",
              "      --fill-color: #D2E3FC;\n",
              "      --hover-bg-color: #434B5C;\n",
              "      --hover-fill-color: #FFFFFF;\n",
              "      --disabled-bg-color: #3B4455;\n",
              "      --disabled-fill-color: #666;\n",
              "  }\n",
              "\n",
              "  .colab-df-quickchart {\n",
              "    background-color: var(--bg-color);\n",
              "    border: none;\n",
              "    border-radius: 50%;\n",
              "    cursor: pointer;\n",
              "    display: none;\n",
              "    fill: var(--fill-color);\n",
              "    height: 32px;\n",
              "    padding: 0;\n",
              "    width: 32px;\n",
              "  }\n",
              "\n",
              "  .colab-df-quickchart:hover {\n",
              "    background-color: var(--hover-bg-color);\n",
              "    box-shadow: 0 1px 2px rgba(60, 64, 67, 0.3), 0 1px 3px 1px rgba(60, 64, 67, 0.15);\n",
              "    fill: var(--button-hover-fill-color);\n",
              "  }\n",
              "\n",
              "  .colab-df-quickchart-complete:disabled,\n",
              "  .colab-df-quickchart-complete:disabled:hover {\n",
              "    background-color: var(--disabled-bg-color);\n",
              "    fill: var(--disabled-fill-color);\n",
              "    box-shadow: none;\n",
              "  }\n",
              "\n",
              "  .colab-df-spinner {\n",
              "    border: 2px solid var(--fill-color);\n",
              "    border-color: transparent;\n",
              "    border-bottom-color: var(--fill-color);\n",
              "    animation:\n",
              "      spin 1s steps(1) infinite;\n",
              "  }\n",
              "\n",
              "  @keyframes spin {\n",
              "    0% {\n",
              "      border-color: transparent;\n",
              "      border-bottom-color: var(--fill-color);\n",
              "      border-left-color: var(--fill-color);\n",
              "    }\n",
              "    20% {\n",
              "      border-color: transparent;\n",
              "      border-left-color: var(--fill-color);\n",
              "      border-top-color: var(--fill-color);\n",
              "    }\n",
              "    30% {\n",
              "      border-color: transparent;\n",
              "      border-left-color: var(--fill-color);\n",
              "      border-top-color: var(--fill-color);\n",
              "      border-right-color: var(--fill-color);\n",
              "    }\n",
              "    40% {\n",
              "      border-color: transparent;\n",
              "      border-right-color: var(--fill-color);\n",
              "      border-top-color: var(--fill-color);\n",
              "    }\n",
              "    60% {\n",
              "      border-color: transparent;\n",
              "      border-right-color: var(--fill-color);\n",
              "    }\n",
              "    80% {\n",
              "      border-color: transparent;\n",
              "      border-right-color: var(--fill-color);\n",
              "      border-bottom-color: var(--fill-color);\n",
              "    }\n",
              "    90% {\n",
              "      border-color: transparent;\n",
              "      border-bottom-color: var(--fill-color);\n",
              "    }\n",
              "  }\n",
              "</style>\n",
              "\n",
              "  <script>\n",
              "    async function quickchart(key) {\n",
              "      const quickchartButtonEl =\n",
              "        document.querySelector('#' + key + ' button');\n",
              "      quickchartButtonEl.disabled = true;  // To prevent multiple clicks.\n",
              "      quickchartButtonEl.classList.add('colab-df-spinner');\n",
              "      try {\n",
              "        const charts = await google.colab.kernel.invokeFunction(\n",
              "            'suggestCharts', [key], {});\n",
              "      } catch (error) {\n",
              "        console.error('Error during call to suggestCharts:', error);\n",
              "      }\n",
              "      quickchartButtonEl.classList.remove('colab-df-spinner');\n",
              "      quickchartButtonEl.classList.add('colab-df-quickchart-complete');\n",
              "    }\n",
              "    (() => {\n",
              "      let quickchartButtonEl =\n",
              "        document.querySelector('#df-f99c84a6-f77a-4a2f-92e0-2b238be4518b button');\n",
              "      quickchartButtonEl.style.display =\n",
              "        google.colab.kernel.accessAllowed ? 'block' : 'none';\n",
              "    })();\n",
              "  </script>\n",
              "</div>\n",
              "    </div>\n",
              "  </div>\n"
            ]
          },
          "metadata": {},
          "execution_count": 7
        }
      ],
      "source": [
        "# Group the dataframe by bowler and match_id\n",
        "df_grouped = df_filtered.groupby(['bowler', 'venue', 'batting_team', 'bowling_team']).count()\n",
        "\n",
        "# Drop the unnecessary columns\n",
        "df_grouped = df_grouped.drop(['player_dismissed', 'match_id'], axis=1)\n",
        "\n",
        "# Rename the remaining column to 'wicket_in_inning'\n",
        "df_grouped = df_grouped.rename(columns={'wicket_type': 'wicket_in_inning'})\n",
        "\n",
        "# Reset the index to convert the resulting groupby object to a dataframe\n",
        "df_grouped = df_grouped.reset_index()\n",
        "\n",
        "# df_grouped = df_grouped.sort_values(by=['wicket_in_inning', 'bowler'], ascending=[False, True])\n",
        "\n",
        "df_grouped.head(20)\n"
      ]
    },
    {
      "cell_type": "code",
      "execution_count": null,
      "metadata": {
        "colab": {
          "base_uri": "https://localhost:8080/"
        },
        "id": "VGxh5cz46obQ",
        "outputId": "d0f86a6d-8269-402b-b5f8-8f46083a910f"
      },
      "outputs": [
        {
          "output_type": "execute_result",
          "data": {
            "text/plain": [
              "bowler              object\n",
              "venue               object\n",
              "batting_team        object\n",
              "bowling_team        object\n",
              "wicket_in_inning     int64\n",
              "dtype: object"
            ]
          },
          "metadata": {},
          "execution_count": 8
        }
      ],
      "source": [
        "df_grouped.dtypes"
      ]
    },
    {
      "cell_type": "code",
      "execution_count": null,
      "metadata": {
        "colab": {
          "base_uri": "https://localhost:8080/"
        },
        "id": "DJXzLtDs6obR",
        "outputId": "786681fc-5080-49a9-b53b-571d6007934d"
      },
      "outputs": [
        {
          "output_type": "execute_result",
          "data": {
            "text/plain": [
              "array(['A Dutt', 'A Zampa', 'AAP Atkinson', 'AD Mathews', 'AU Rashid',\n",
              "       'Azmatullah Omarzai', 'BFW de Leede', 'CAK Rajitha',\n",
              "       'CBRLS Kumara', 'CN Ackermann', 'CR Woakes', 'D Madushanka',\n",
              "       'DJ Willey', 'DN Wellalage', 'Fazalhaq Farooqi', 'G Coetzee',\n",
              "       'GD Phillips', 'GJ Maxwell', 'HH Pandya', 'Haris Rauf',\n",
              "       'Hasan Ali', 'Hasan Mahmud', 'Iftikhar Ahmed', 'JDS Neesham',\n",
              "       'JE Root', 'JJ Bumrah', 'JR Hazlewood', 'K Rabada', 'KA Maharaj',\n",
              "       'Kuldeep Yadav', 'L Ngidi', 'LB Williams', 'LH Ferguson',\n",
              "       'LS Livingstone', 'LV van Beek', 'M Jansen', 'M Pathirana',\n",
              "       'M Theekshana', 'MA Starc', 'MA Wood', 'MJ Henry', 'MJ Santner',\n",
              "       'MP Stoinis', 'MR Marsh', 'Mahedi Hasan', 'Mehedi Hasan Miraz',\n",
              "       'Mohammad Nabi', 'Mohammad Nawaz', 'Mohammad Wasim',\n",
              "       'Mohammed Shami', 'Mohammed Siraj', 'Mujeeb Ur Rahman',\n",
              "       'Mustafizur Rahman', 'Naveen-ul-Haq', 'Noor Ahmad',\n",
              "       'PA van Meekeren', 'PJ Cummins', 'R Ashwin', 'R Ravindra',\n",
              "       'RA Jadeja', 'RE van der Merwe', 'RJW Topley', 'Rashid Khan',\n",
              "       'SM Curran', 'SN Thakur', 'Shadab Khan', 'Shaheen Shah Afridi',\n",
              "       'Shakib Al Hasan', 'Shoriful Islam', 'T Shamsi', 'TA Boult',\n",
              "       'TG Southee', 'Taskin Ahmed', 'Usama Mir'], dtype=object)"
            ]
          },
          "metadata": {},
          "execution_count": 9
        }
      ],
      "source": [
        "df_grouped['bowler'].unique()"
      ]
    },
    {
      "cell_type": "code",
      "execution_count": null,
      "metadata": {
        "colab": {
          "base_uri": "https://localhost:8080/"
        },
        "id": "8StFXWZW6obS",
        "outputId": "a3c2cda4-7c4c-4634-8ffc-80ddc64b4941"
      },
      "outputs": [
        {
          "output_type": "stream",
          "name": "stdout",
          "text": [
            "     bowler  venue  batting_team  bowling_team  wicket_in_inning\n",
            "0         0      0             1             5                 1\n",
            "1         0      1             9             5                 3\n",
            "2         0      2             2             5                 1\n",
            "3         0      8             6             5                 2\n",
            "4         0      8             7             5                 1\n",
            "..      ...    ...           ...           ...               ...\n",
            "250      72      3             0             2                 1\n",
            "251      72      3             3             2                 1\n",
            "252      73      2             2             7                 1\n",
            "253      73      4             1             7                 1\n",
            "254      73      5             8             7                 2\n",
            "\n",
            "[255 rows x 5 columns]\n"
          ]
        }
      ],
      "source": [
        "from sklearn.preprocessing import LabelEncoder\n",
        "\n",
        "# Create a LabelEncoder object\n",
        "le = LabelEncoder()\n",
        "\n",
        "# Encode the categorical columns\n",
        "df_grouped['venue'] = le.fit_transform(df_grouped['venue'])\n",
        "df_grouped['batting_team'] = le.fit_transform(df_grouped['batting_team'])\n",
        "df_grouped['bowling_team'] = le.fit_transform(df_grouped['bowling_team'])\n",
        "df_grouped['bowler'] = le.fit_transform(df_grouped['bowler'])\n",
        "\n",
        "# Print the resulting dataframe\n",
        "print(df_grouped)\n"
      ]
    },
    {
      "cell_type": "code",
      "execution_count": null,
      "metadata": {
        "id": "cOsgcc1h6obS"
      },
      "outputs": [],
      "source": [
        "from sklearn.model_selection import train_test_split\n",
        "from sklearn.preprocessing import StandardScaler\n",
        "from sklearn.metrics import accuracy_score\n",
        "from sklearn.model_selection import train_test_split\n",
        "from sklearn.preprocessing import StandardScaler\n",
        "from sklearn.metrics import accuracy_score\n",
        "from sklearn.preprocessing import StandardScaler, LabelEncoder\n",
        "from sklearn.model_selection import train_test_split\n",
        "from tensorflow.keras.models import Sequential\n",
        "from tensorflow.keras.layers import Dense\n",
        "from sklearn.neighbors import KNeighborsClassifier\n",
        "from sklearn.pipeline import make_pipeline, Pipeline\n",
        "from sklearn.preprocessing import PolynomialFeatures\n",
        "import math\n",
        "import numpy as np\n",
        "from sklearn.metrics import mean_absolute_error\n"
      ]
    },
    {
      "cell_type": "code",
      "source": [
        "X = df_grouped[['venue', 'batting_team', 'bowling_team', 'bowler']]\n",
        "y = df_grouped['wicket_in_inning']\n",
        "\n",
        "# Encode the target variable using LabelEncoder\n",
        "le = LabelEncoder()\n",
        "y = le.fit_transform(y)\n",
        "\n",
        "# Split the data into training and testing sets\n",
        "X_train, X_test, y_train, y_test = train_test_split(X, y, test_size=0.2, random_state=42)\n",
        "\n",
        "# Standardize the features\n",
        "scaler = StandardScaler()\n",
        "X_train = scaler.fit_transform(X_train)\n",
        "X_test = scaler.transform(X_test)"
      ],
      "metadata": {
        "id": "9AQdpf9v72aI"
      },
      "execution_count": null,
      "outputs": []
    },
    {
      "cell_type": "code",
      "source": [
        "scaler = StandardScaler()\n",
        "X_train_scaled = scaler.fit_transform(X_train)\n",
        "X_test_scaled = scaler.transform(X_test)"
      ],
      "metadata": {
        "id": "lwhp8vRUKOS3"
      },
      "execution_count": null,
      "outputs": []
    },
    {
      "cell_type": "code",
      "source": [
        "# Determine the number of unique bowlers for the output layer\n",
        "num_classes = len(df_grouped['bowler'].unique())"
      ],
      "metadata": {
        "id": "q8K9hmw79m9a"
      },
      "execution_count": null,
      "outputs": []
    },
    {
      "cell_type": "code",
      "source": [
        "# Build the DNN model with an additional layer\n",
        "model_name = Sequential()\n",
        "model_name.add(Dense(64, input_dim=X_train.shape[1], activation='relu'))\n",
        "model_name.add(Dense(32, activation='relu'))\n",
        "#model.add(Dense(16, activation='relu'))  # Add another layer\n",
        "model_name.add(Dense(num_classes, activation='softmax'))\n",
        "\n",
        "# Compile the model\n",
        "model_name.compile(loss='sparse_categorical_crossentropy', optimizer='adam', metrics=['accuracy'])\n",
        "\n",
        "# Train the model\n",
        "model_name.fit(X_train, y_train, epochs=10, batch_size=32, validation_split=0.2)\n",
        "\n",
        "# Evaluate the model on the test set\n",
        "_, accuracy = model_name.evaluate(X_test, y_test)\n",
        "print(f\"Accuracy: {accuracy * 100:.2f}%\")\n",
        "\n",
        "# Make predictions on the test set\n",
        "y_pred = model_name.predict(X_test)\n",
        "\n",
        "# Convert predictions to class labels\n",
        "y_pred_labels = y_pred.argmax(axis=1)\n",
        "\n",
        "# Convert predictions back to original scale\n",
        "y_pred_original = le.inverse_transform(y_pred_labels)\n",
        "\n",
        "# Display accuracy in percentage\n",
        "accuracy_percentage = accuracy_score(y_test, y_pred_labels) * 100\n",
        "print(f\"Accuracy: {accuracy_percentage:.2f}% MAE: {mae}\")"
      ],
      "metadata": {
        "colab": {
          "base_uri": "https://localhost:8080/"
        },
        "id": "pVk_hePM7_we",
        "outputId": "577d061b-8fad-4fbc-c4c6-46ffa2f7a6ff"
      },
      "execution_count": null,
      "outputs": [
        {
          "output_type": "stream",
          "name": "stdout",
          "text": [
            "Epoch 1/10\n",
            "6/6 [==============================] - 1s 38ms/step - loss: 4.2905 - accuracy: 0.0061 - val_loss: 4.2458 - val_accuracy: 0.0244\n",
            "Epoch 2/10\n",
            "6/6 [==============================] - 0s 10ms/step - loss: 4.1760 - accuracy: 0.0552 - val_loss: 4.1413 - val_accuracy: 0.1220\n",
            "Epoch 3/10\n",
            "6/6 [==============================] - 0s 11ms/step - loss: 4.0602 - accuracy: 0.1718 - val_loss: 4.0263 - val_accuracy: 0.2195\n",
            "Epoch 4/10\n",
            "6/6 [==============================] - 0s 7ms/step - loss: 3.9289 - accuracy: 0.2822 - val_loss: 3.8924 - val_accuracy: 0.3171\n",
            "Epoch 5/10\n",
            "6/6 [==============================] - 0s 11ms/step - loss: 3.7773 - accuracy: 0.3804 - val_loss: 3.7311 - val_accuracy: 0.3659\n",
            "Epoch 6/10\n",
            "6/6 [==============================] - 0s 7ms/step - loss: 3.5902 - accuracy: 0.4294 - val_loss: 3.5301 - val_accuracy: 0.3171\n",
            "Epoch 7/10\n",
            "6/6 [==============================] - 0s 11ms/step - loss: 3.3576 - accuracy: 0.4356 - val_loss: 3.2838 - val_accuracy: 0.3171\n",
            "Epoch 8/10\n",
            "6/6 [==============================] - 0s 10ms/step - loss: 3.0780 - accuracy: 0.4172 - val_loss: 2.9911 - val_accuracy: 0.2927\n",
            "Epoch 9/10\n",
            "6/6 [==============================] - 0s 8ms/step - loss: 2.7573 - accuracy: 0.3988 - val_loss: 2.6670 - val_accuracy: 0.3171\n",
            "Epoch 10/10\n",
            "6/6 [==============================] - 0s 10ms/step - loss: 2.4057 - accuracy: 0.4049 - val_loss: 2.3375 - val_accuracy: 0.3171\n",
            "2/2 [==============================] - 0s 6ms/step - loss: 1.9282 - accuracy: 0.4902\n",
            "Accuracy: 49.02%\n",
            "2/2 [==============================] - 0s 6ms/step\n",
            "Accuracy: 49.02% MAE: 0.7450980392156863\n"
          ]
        }
      ]
    },
    {
      "cell_type": "code",
      "source": [
        "from sklearn.model_selection import GridSearchCV\n",
        "\n",
        "param_grid = {'n_neighbors': [3, 5, 7, 9, 11]}\n",
        "grid_search = GridSearchCV(KNeighborsClassifier(), param_grid, cv=5)\n",
        "grid_search.fit(X_train_scaled, y_train)\n",
        "print(\"Best parameters:\", grid_search.best_params_)\n",
        "model_name = grid_search.best_estimator_\n"
      ],
      "metadata": {
        "colab": {
          "base_uri": "https://localhost:8080/"
        },
        "id": "RP6VQ5_VO2MJ",
        "outputId": "4d883a5d-5b15-4242-8cc6-7f431a55eb8d"
      },
      "execution_count": null,
      "outputs": [
        {
          "output_type": "stream",
          "name": "stdout",
          "text": [
            "Best parameters: {'n_neighbors': 11}\n"
          ]
        },
        {
          "output_type": "stream",
          "name": "stderr",
          "text": [
            "/usr/local/lib/python3.10/dist-packages/sklearn/model_selection/_split.py:700: UserWarning: The least populated class in y has only 1 members, which is less than n_splits=5.\n",
            "  warnings.warn(\n"
          ]
        }
      ]
    },
    {
      "cell_type": "code",
      "source": [
        "# Build and train the KNN model\n",
        "model_name = KNeighborsClassifier(n_neighbors=11)\n",
        "model_name.fit(X_train_scaled, y_train)\n",
        "\n",
        "# Predictions with KNN\n",
        "y_pred_knn = model_name.predict(X_test_scaled)\n",
        "\n",
        "# Evaluate the KNN model\n",
        "knn_accuracy = accuracy_score(y_test, y_pred_knn)\n",
        "print(f\"KNN Accuracy: {knn_accuracy * 100:.2f}% MAE: {mae}\")"
      ],
      "metadata": {
        "colab": {
          "base_uri": "https://localhost:8080/"
        },
        "id": "w69VpLmiH-gy",
        "outputId": "63a2e0ce-f785-4fa4-d81e-b6fcd4ee8189"
      },
      "execution_count": null,
      "outputs": [
        {
          "output_type": "stream",
          "name": "stdout",
          "text": [
            "KNN Accuracy: 41.18% MAE: 0.7450980392156863\n"
          ]
        }
      ]
    },
    {
      "cell_type": "code",
      "source": [
        "from sklearn.svm import SVR"
      ],
      "metadata": {
        "id": "HuklJfx6lAmx"
      },
      "execution_count": null,
      "outputs": []
    },
    {
      "cell_type": "code",
      "source": [
        "# Define the models and their hyperparameter grids\n",
        "model_dict = {\n",
        "    'LinearRegression': {\"model\": LinearRegression(), \"params\": {}},\n",
        "    'RandomForestRegressor': {\"model\": RandomForestRegressor(random_state=42),\n",
        "                              \"params\": {'n_estimators': [10, 20, 30], 'max_depth': [None, 5, 10], 'min_samples_split': [2, 5, 10]}},\n",
        "    'XGBRegressor': {\"model\": XGBRegressor(), \"params\": {'n_estimators': [50, 100, 200], 'learning_rate': [0.01, 0.1, 0.2]}},\n",
        "    'PolynomialFeatures': {\"model\": make_pipeline(PolynomialFeatures(), LinearRegression()),\n",
        "                           \"params\": {'polynomialfeatures__degree': [2, 3]}},\n",
        "    'LogisticRegression': {\"model\": LogisticRegression(), \"params\": {'C': [0.001, 0.01, 0.1, 1, 10, 100]}},\n",
        "    'SVM': {\"model\": SVR(), \"params\": {'C': [0.001, 0.01, 0.1, 1, 10, 100], 'gamma': [0.001, 0.01, 0.1, 1]}}\n",
        "}\n",
        "\n",
        "# Hyperparameter tuning and model evaluation\n",
        "for model_name, model_params in model_dict.items():\n",
        "    model = model_params[\"model\"]\n",
        "    params = model_params[\"params\"]\n",
        "\n",
        "    if params:\n",
        "        grid_search = GridSearchCV(model, params, scoring='neg_mean_squared_error', cv=5)\n",
        "        grid_search.fit(X_train, y_train)\n",
        "        best_model = grid_search.best_estimator_\n",
        "    else:\n",
        "        best_model = model.fit(X_train, y_train)\n",
        "\n",
        "    y_pred = best_model.predict(X_test)\n",
        "\n",
        "    mse = mean_squared_error(y_test, y_pred)\n",
        "    mae = mean_absolute_error(y_test, y_pred)\n",
        "    accuracy = calculate_accuracy(y_test, y_pred, tolerance=1)\n",
        "\n",
        "    print(f'{model_name} MSE: {mse}, MAE: {mae}, Accuracy: {accuracy:.2f}%')\n",
        "    if params:\n",
        "        print(f'Best hyperparameters: {grid_search.best_params_}')\n",
        "    print('-' * 40)"
      ],
      "metadata": {
        "colab": {
          "base_uri": "https://localhost:8080/"
        },
        "id": "JLCn6iI7lJZm",
        "outputId": "02e3225d-11cd-4d07-fd0d-8b5d9c685e37"
      },
      "execution_count": null,
      "outputs": [
        {
          "output_type": "stream",
          "name": "stdout",
          "text": [
            "LinearRegression MSE: 0.8603529698597601, MAE: 0.7517712967864847, Accuracy: 60.78%\n",
            "----------------------------------------\n",
            "RandomForestRegressor MSE: 1.1330441685686548, MAE: 0.864877307198966, Accuracy: 64.71%\n",
            "Best hyperparameters: {'max_depth': 5, 'min_samples_split': 10, 'n_estimators': 10}\n",
            "----------------------------------------\n",
            "XGBRegressor MSE: 1.0018780934499438, MAE: 0.8177212009242937, Accuracy: 68.63%\n",
            "Best hyperparameters: {'learning_rate': 0.01, 'n_estimators': 50}\n",
            "----------------------------------------\n",
            "PolynomialFeatures MSE: 0.9523394226352475, MAE: 0.7930111257604529, Accuracy: 58.82%\n",
            "Best hyperparameters: {'polynomialfeatures__degree': 2}\n",
            "----------------------------------------\n"
          ]
        },
        {
          "output_type": "stream",
          "name": "stderr",
          "text": [
            "/usr/local/lib/python3.10/dist-packages/sklearn/model_selection/_split.py:700: UserWarning: The least populated class in y has only 1 members, which is less than n_splits=5.\n",
            "  warnings.warn(\n"
          ]
        },
        {
          "output_type": "stream",
          "name": "stdout",
          "text": [
            "LogisticRegression MSE: 1.0980392156862746, MAE: 0.7450980392156863, Accuracy: 90.20%\n",
            "Best hyperparameters: {'C': 0.1}\n",
            "----------------------------------------\n",
            "SVM MSE: 0.8335482939532998, MAE: 0.7235321631085125, Accuracy: 86.27%\n",
            "Best hyperparameters: {'C': 0.001, 'gamma': 0.01}\n",
            "----------------------------------------\n"
          ]
        }
      ]
    },
    {
      "cell_type": "code",
      "source": [
        "import pickle as pkl"
      ],
      "metadata": {
        "id": "ZOrzXg-AU2Ms"
      },
      "execution_count": null,
      "outputs": []
    },
    {
      "cell_type": "code",
      "source": [
        "pkl.dump(model_name, open('/content/predict_wickets','wb'))"
      ],
      "metadata": {
        "id": "u0dfvUQiVRrK"
      },
      "execution_count": null,
      "outputs": []
    }
  ],
  "metadata": {
    "kernelspec": {
      "display_name": "Python 3",
      "language": "python",
      "name": "python3"
    },
    "language_info": {
      "codemirror_mode": {
        "name": "ipython",
        "version": 3
      },
      "file_extension": ".py",
      "mimetype": "text/x-python",
      "name": "python",
      "nbconvert_exporter": "python",
      "pygments_lexer": "ipython3",
      "version": "3.11.5"
    },
    "colab": {
      "provenance": []
    }
  },
  "nbformat": 4,
  "nbformat_minor": 0
}